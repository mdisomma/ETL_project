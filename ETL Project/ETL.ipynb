{
 "cells": [
  {
   "cell_type": "code",
   "execution_count": 1,
   "metadata": {},
   "outputs": [],
   "source": [
    "#Import dependencies\n",
    "import numpy as np\n",
    "import pandas as pd\n",
    "from sqlalchemy import create_engine\n",
    "import matplotlib.pyplot as plt\n",
    "import pandas as pd\n",
    "from sqlalchemy import create_engine"
   ]
  },
  {
   "cell_type": "code",
   "execution_count": 2,
   "metadata": {},
   "outputs": [],
   "source": [
    "#Specify path and read in public health data from local CSV\n",
    "ph_ind = \"Data/Chi_Selected_PH_indicators_by_cmty_2005_2011.csv\"\n",
    "df_ph_ind = pd.read_csv(ph_ind)"
   ]
  },
  {
   "cell_type": "code",
   "execution_count": 3,
   "metadata": {},
   "outputs": [
    {
     "data": {
      "text/html": [
       "<div>\n",
       "<style scoped>\n",
       "    .dataframe tbody tr th:only-of-type {\n",
       "        vertical-align: middle;\n",
       "    }\n",
       "\n",
       "    .dataframe tbody tr th {\n",
       "        vertical-align: top;\n",
       "    }\n",
       "\n",
       "    .dataframe thead th {\n",
       "        text-align: right;\n",
       "    }\n",
       "</style>\n",
       "<table border=\"1\" class=\"dataframe\">\n",
       "  <thead>\n",
       "    <tr style=\"text-align: right;\">\n",
       "      <th></th>\n",
       "      <th>Community Area</th>\n",
       "      <th>Community Area Name</th>\n",
       "      <th>Birth Rate</th>\n",
       "      <th>General Fertility Rate</th>\n",
       "      <th>Low Birth Weight</th>\n",
       "      <th>Prenatal Care Beginning in First Trimester</th>\n",
       "      <th>Preterm Births</th>\n",
       "      <th>Teen Birth Rate</th>\n",
       "      <th>Assault (Homicide)</th>\n",
       "      <th>Breast cancer in females</th>\n",
       "      <th>...</th>\n",
       "      <th>Childhood Lead Poisoning</th>\n",
       "      <th>Gonorrhea in Females</th>\n",
       "      <th>Gonorrhea in Males</th>\n",
       "      <th>Tuberculosis</th>\n",
       "      <th>Below Poverty Level</th>\n",
       "      <th>Crowded Housing</th>\n",
       "      <th>Dependency</th>\n",
       "      <th>No High School Diploma</th>\n",
       "      <th>Per Capita Income</th>\n",
       "      <th>Unemployment</th>\n",
       "    </tr>\n",
       "  </thead>\n",
       "  <tbody>\n",
       "    <tr>\n",
       "      <th>0</th>\n",
       "      <td>1</td>\n",
       "      <td>Rogers Park</td>\n",
       "      <td>16.4</td>\n",
       "      <td>62.0</td>\n",
       "      <td>11.0</td>\n",
       "      <td>73.0</td>\n",
       "      <td>11.2</td>\n",
       "      <td>40.8</td>\n",
       "      <td>7.7</td>\n",
       "      <td>23.3</td>\n",
       "      <td>...</td>\n",
       "      <td>0.5</td>\n",
       "      <td>322.5</td>\n",
       "      <td>423.3</td>\n",
       "      <td>11.4</td>\n",
       "      <td>22.7</td>\n",
       "      <td>7.9</td>\n",
       "      <td>28.8</td>\n",
       "      <td>18.1</td>\n",
       "      <td>23714</td>\n",
       "      <td>7.5</td>\n",
       "    </tr>\n",
       "    <tr>\n",
       "      <th>1</th>\n",
       "      <td>2</td>\n",
       "      <td>West Ridge</td>\n",
       "      <td>17.3</td>\n",
       "      <td>83.3</td>\n",
       "      <td>8.1</td>\n",
       "      <td>71.1</td>\n",
       "      <td>8.3</td>\n",
       "      <td>29.9</td>\n",
       "      <td>5.8</td>\n",
       "      <td>20.2</td>\n",
       "      <td>...</td>\n",
       "      <td>1.0</td>\n",
       "      <td>141.0</td>\n",
       "      <td>205.7</td>\n",
       "      <td>8.9</td>\n",
       "      <td>15.1</td>\n",
       "      <td>7.0</td>\n",
       "      <td>38.3</td>\n",
       "      <td>19.6</td>\n",
       "      <td>21375</td>\n",
       "      <td>7.9</td>\n",
       "    </tr>\n",
       "    <tr>\n",
       "      <th>2</th>\n",
       "      <td>3</td>\n",
       "      <td>Uptown</td>\n",
       "      <td>13.1</td>\n",
       "      <td>50.5</td>\n",
       "      <td>8.3</td>\n",
       "      <td>77.7</td>\n",
       "      <td>10.3</td>\n",
       "      <td>35.1</td>\n",
       "      <td>5.4</td>\n",
       "      <td>21.3</td>\n",
       "      <td>...</td>\n",
       "      <td>0.5</td>\n",
       "      <td>170.8</td>\n",
       "      <td>468.7</td>\n",
       "      <td>13.6</td>\n",
       "      <td>22.7</td>\n",
       "      <td>4.6</td>\n",
       "      <td>22.2</td>\n",
       "      <td>13.6</td>\n",
       "      <td>32355</td>\n",
       "      <td>7.7</td>\n",
       "    </tr>\n",
       "    <tr>\n",
       "      <th>3</th>\n",
       "      <td>4</td>\n",
       "      <td>Lincoln Square</td>\n",
       "      <td>17.1</td>\n",
       "      <td>61.0</td>\n",
       "      <td>8.1</td>\n",
       "      <td>80.5</td>\n",
       "      <td>9.7</td>\n",
       "      <td>38.4</td>\n",
       "      <td>5.0</td>\n",
       "      <td>21.7</td>\n",
       "      <td>...</td>\n",
       "      <td>0.4</td>\n",
       "      <td>98.8</td>\n",
       "      <td>195.5</td>\n",
       "      <td>8.5</td>\n",
       "      <td>9.5</td>\n",
       "      <td>3.1</td>\n",
       "      <td>25.6</td>\n",
       "      <td>12.5</td>\n",
       "      <td>35503</td>\n",
       "      <td>6.8</td>\n",
       "    </tr>\n",
       "    <tr>\n",
       "      <th>4</th>\n",
       "      <td>5</td>\n",
       "      <td>North Center</td>\n",
       "      <td>22.4</td>\n",
       "      <td>76.2</td>\n",
       "      <td>9.1</td>\n",
       "      <td>80.4</td>\n",
       "      <td>9.8</td>\n",
       "      <td>8.4</td>\n",
       "      <td>1.0</td>\n",
       "      <td>16.6</td>\n",
       "      <td>...</td>\n",
       "      <td>0.9</td>\n",
       "      <td>85.4</td>\n",
       "      <td>188.6</td>\n",
       "      <td>1.9</td>\n",
       "      <td>7.1</td>\n",
       "      <td>0.2</td>\n",
       "      <td>25.5</td>\n",
       "      <td>5.4</td>\n",
       "      <td>51615</td>\n",
       "      <td>4.5</td>\n",
       "    </tr>\n",
       "  </tbody>\n",
       "</table>\n",
       "<p>5 rows × 29 columns</p>\n",
       "</div>"
      ],
      "text/plain": [
       "   Community Area Community Area Name  Birth Rate  General Fertility Rate  \\\n",
       "0               1         Rogers Park        16.4                    62.0   \n",
       "1               2          West Ridge        17.3                    83.3   \n",
       "2               3              Uptown        13.1                    50.5   \n",
       "3               4      Lincoln Square        17.1                    61.0   \n",
       "4               5        North Center        22.4                    76.2   \n",
       "\n",
       "   Low Birth Weight  Prenatal Care Beginning in First Trimester  \\\n",
       "0              11.0                                        73.0   \n",
       "1               8.1                                        71.1   \n",
       "2               8.3                                        77.7   \n",
       "3               8.1                                        80.5   \n",
       "4               9.1                                        80.4   \n",
       "\n",
       "   Preterm Births  Teen Birth Rate  Assault (Homicide)  \\\n",
       "0            11.2             40.8                 7.7   \n",
       "1             8.3             29.9                 5.8   \n",
       "2            10.3             35.1                 5.4   \n",
       "3             9.7             38.4                 5.0   \n",
       "4             9.8              8.4                 1.0   \n",
       "\n",
       "   Breast cancer in females  ...  Childhood Lead Poisoning  \\\n",
       "0                      23.3  ...                       0.5   \n",
       "1                      20.2  ...                       1.0   \n",
       "2                      21.3  ...                       0.5   \n",
       "3                      21.7  ...                       0.4   \n",
       "4                      16.6  ...                       0.9   \n",
       "\n",
       "   Gonorrhea in Females  Gonorrhea in Males  Tuberculosis  \\\n",
       "0                 322.5               423.3          11.4   \n",
       "1                 141.0               205.7           8.9   \n",
       "2                 170.8               468.7          13.6   \n",
       "3                  98.8               195.5           8.5   \n",
       "4                  85.4               188.6           1.9   \n",
       "\n",
       "   Below Poverty Level  Crowded Housing  Dependency  No High School Diploma  \\\n",
       "0                 22.7              7.9        28.8                    18.1   \n",
       "1                 15.1              7.0        38.3                    19.6   \n",
       "2                 22.7              4.6        22.2                    13.6   \n",
       "3                  9.5              3.1        25.6                    12.5   \n",
       "4                  7.1              0.2        25.5                     5.4   \n",
       "\n",
       "   Per Capita Income  Unemployment  \n",
       "0              23714           7.5  \n",
       "1              21375           7.9  \n",
       "2              32355           7.7  \n",
       "3              35503           6.8  \n",
       "4              51615           4.5  \n",
       "\n",
       "[5 rows x 29 columns]"
      ]
     },
     "execution_count": 3,
     "metadata": {},
     "output_type": "execute_result"
    }
   ],
   "source": [
    "#Sample of dataframe\n",
    "df_ph_ind.head()"
   ]
  },
  {
   "cell_type": "code",
   "execution_count": 4,
   "metadata": {
    "scrolled": true
   },
   "outputs": [
    {
     "data": {
      "text/plain": [
       "Index(['Community Area', 'Community Area Name', 'Birth Rate',\n",
       "       'General Fertility Rate', 'Low Birth Weight',\n",
       "       'Prenatal Care Beginning in First Trimester', 'Preterm Births',\n",
       "       'Teen Birth Rate', 'Assault (Homicide)', 'Breast cancer in females',\n",
       "       'Cancer (All Sites)', 'Colorectal Cancer', 'Diabetes-related',\n",
       "       'Firearm-related', 'Infant Mortality Rate', 'Lung Cancer',\n",
       "       'Prostate Cancer in Males', 'Stroke (Cerebrovascular Disease)',\n",
       "       'Childhood Blood Lead Level Screening', 'Childhood Lead Poisoning',\n",
       "       'Gonorrhea in Females', 'Gonorrhea in Males', 'Tuberculosis',\n",
       "       'Below Poverty Level', 'Crowded Housing', 'Dependency',\n",
       "       'No High School Diploma', 'Per Capita Income', 'Unemployment'],\n",
       "      dtype='object')"
      ]
     },
     "execution_count": 4,
     "metadata": {},
     "output_type": "execute_result"
    }
   ],
   "source": [
    "#Display column names\n",
    "df_ph_ind.columns"
   ]
  },
  {
   "cell_type": "code",
   "execution_count": 5,
   "metadata": {},
   "outputs": [
    {
     "data": {
      "text/plain": [
       "Community Area                                  int64\n",
       "Community Area Name                            object\n",
       "Birth Rate                                    float64\n",
       "General Fertility Rate                        float64\n",
       "Low Birth Weight                              float64\n",
       "Prenatal Care Beginning in First Trimester    float64\n",
       "Preterm Births                                float64\n",
       "Teen Birth Rate                               float64\n",
       "Assault (Homicide)                            float64\n",
       "Breast cancer in females                      float64\n",
       "Cancer (All Sites)                            float64\n",
       "Colorectal Cancer                             float64\n",
       "Diabetes-related                              float64\n",
       "Firearm-related                               float64\n",
       "Infant Mortality Rate                         float64\n",
       "Lung Cancer                                   float64\n",
       "Prostate Cancer in Males                      float64\n",
       "Stroke (Cerebrovascular Disease)              float64\n",
       "Childhood Blood Lead Level Screening          float64\n",
       "Childhood Lead Poisoning                      float64\n",
       "Gonorrhea in Females                          float64\n",
       "Gonorrhea in Males                             object\n",
       "Tuberculosis                                  float64\n",
       "Below Poverty Level                           float64\n",
       "Crowded Housing                               float64\n",
       "Dependency                                    float64\n",
       "No High School Diploma                        float64\n",
       "Per Capita Income                               int64\n",
       "Unemployment                                  float64\n",
       "dtype: object"
      ]
     },
     "execution_count": 5,
     "metadata": {},
     "output_type": "execute_result"
    }
   ],
   "source": [
    "#Display datatypes of each column\n",
    "df_ph_ind.dtypes"
   ]
  },
  {
   "cell_type": "code",
   "execution_count": 6,
   "metadata": {},
   "outputs": [],
   "source": [
    "#Condense dataframe to only the columns needed\n",
    "df_ph_condense = df_ph_ind[[\"Community Area\", \"Community Area Name\", \"Unemployment\", \"No High School Diploma\"]].copy()"
   ]
  },
  {
   "cell_type": "code",
   "execution_count": 7,
   "metadata": {},
   "outputs": [],
   "source": [
    "#Remove records with empty values in 'Community Area' field (this field is primary key and cannot have NA's)\n",
    "df_ph_condense = df_ph_condense.dropna(subset=[\"Community Area\"])"
   ]
  },
  {
   "cell_type": "code",
   "execution_count": 8,
   "metadata": {},
   "outputs": [],
   "source": [
    "#Change datatype of 'Community Area' into string to make it a categorical variable\n",
    "df_ph_condense = df_ph_condense.astype({\"Community Area\": \"str\"})"
   ]
  },
  {
   "cell_type": "code",
   "execution_count": 9,
   "metadata": {},
   "outputs": [],
   "source": [
    "#Rename columns to fit those that will be in SQL table\n",
    "df_ph_condense = df_ph_condense.rename(columns={\"Community Area\": \"community_area\", \"Community Area Name\": \"community_area_name\", \"Unemployment\": \"unemployment\",\n",
    "                                                \"No High School Diploma\": \"no_high_school_diploma\"})"
   ]
  },
  {
   "cell_type": "code",
   "execution_count": 10,
   "metadata": {},
   "outputs": [
    {
     "data": {
      "text/html": [
       "<div>\n",
       "<style scoped>\n",
       "    .dataframe tbody tr th:only-of-type {\n",
       "        vertical-align: middle;\n",
       "    }\n",
       "\n",
       "    .dataframe tbody tr th {\n",
       "        vertical-align: top;\n",
       "    }\n",
       "\n",
       "    .dataframe thead th {\n",
       "        text-align: right;\n",
       "    }\n",
       "</style>\n",
       "<table border=\"1\" class=\"dataframe\">\n",
       "  <thead>\n",
       "    <tr style=\"text-align: right;\">\n",
       "      <th></th>\n",
       "      <th>community_area</th>\n",
       "      <th>community_area_name</th>\n",
       "      <th>unemployment</th>\n",
       "      <th>no_high_school_diploma</th>\n",
       "    </tr>\n",
       "  </thead>\n",
       "  <tbody>\n",
       "    <tr>\n",
       "      <th>0</th>\n",
       "      <td>1</td>\n",
       "      <td>Rogers Park</td>\n",
       "      <td>7.5</td>\n",
       "      <td>18.1</td>\n",
       "    </tr>\n",
       "    <tr>\n",
       "      <th>1</th>\n",
       "      <td>2</td>\n",
       "      <td>West Ridge</td>\n",
       "      <td>7.9</td>\n",
       "      <td>19.6</td>\n",
       "    </tr>\n",
       "    <tr>\n",
       "      <th>2</th>\n",
       "      <td>3</td>\n",
       "      <td>Uptown</td>\n",
       "      <td>7.7</td>\n",
       "      <td>13.6</td>\n",
       "    </tr>\n",
       "    <tr>\n",
       "      <th>3</th>\n",
       "      <td>4</td>\n",
       "      <td>Lincoln Square</td>\n",
       "      <td>6.8</td>\n",
       "      <td>12.5</td>\n",
       "    </tr>\n",
       "    <tr>\n",
       "      <th>4</th>\n",
       "      <td>5</td>\n",
       "      <td>North Center</td>\n",
       "      <td>4.5</td>\n",
       "      <td>5.4</td>\n",
       "    </tr>\n",
       "  </tbody>\n",
       "</table>\n",
       "</div>"
      ],
      "text/plain": [
       "  community_area community_area_name  unemployment  no_high_school_diploma\n",
       "0              1         Rogers Park           7.5                    18.1\n",
       "1              2          West Ridge           7.9                    19.6\n",
       "2              3              Uptown           7.7                    13.6\n",
       "3              4      Lincoln Square           6.8                    12.5\n",
       "4              5        North Center           4.5                     5.4"
      ]
     },
     "execution_count": 10,
     "metadata": {},
     "output_type": "execute_result"
    }
   ],
   "source": [
    "#Sample of transformed dataframe\n",
    "df_ph_condense.head()"
   ]
  },
  {
   "cell_type": "code",
   "execution_count": 11,
   "metadata": {},
   "outputs": [],
   "source": [
    "#Specify path and read in second dataframe\n",
    "crime = \"Data/Chi_Crimes2018_All.csv\"\n",
    "df_crime = pd.read_csv(crime)"
   ]
  },
  {
   "cell_type": "code",
   "execution_count": 12,
   "metadata": {
    "scrolled": true
   },
   "outputs": [
    {
     "data": {
      "text/html": [
       "<div>\n",
       "<style scoped>\n",
       "    .dataframe tbody tr th:only-of-type {\n",
       "        vertical-align: middle;\n",
       "    }\n",
       "\n",
       "    .dataframe tbody tr th {\n",
       "        vertical-align: top;\n",
       "    }\n",
       "\n",
       "    .dataframe thead th {\n",
       "        text-align: right;\n",
       "    }\n",
       "</style>\n",
       "<table border=\"1\" class=\"dataframe\">\n",
       "  <thead>\n",
       "    <tr style=\"text-align: right;\">\n",
       "      <th></th>\n",
       "      <th>ID</th>\n",
       "      <th>Case Number</th>\n",
       "      <th>Date</th>\n",
       "      <th>Block</th>\n",
       "      <th>IUCR</th>\n",
       "      <th>Primary Type</th>\n",
       "      <th>Description</th>\n",
       "      <th>Location Description</th>\n",
       "      <th>Arrest</th>\n",
       "      <th>Domestic</th>\n",
       "      <th>...</th>\n",
       "      <th>Longitude</th>\n",
       "      <th>Location</th>\n",
       "      <th>Historical Wards 2003-2015</th>\n",
       "      <th>Zip Codes</th>\n",
       "      <th>Community Areas</th>\n",
       "      <th>Census Tracts</th>\n",
       "      <th>Wards</th>\n",
       "      <th>Boundaries - ZIP Codes</th>\n",
       "      <th>Police Districts</th>\n",
       "      <th>Police Beats</th>\n",
       "    </tr>\n",
       "  </thead>\n",
       "  <tbody>\n",
       "    <tr>\n",
       "      <th>0</th>\n",
       "      <td>11556487</td>\n",
       "      <td>JC104662</td>\n",
       "      <td>12/31/2018 11:59:00 PM</td>\n",
       "      <td>112XX S SACRAMENTO AVE</td>\n",
       "      <td>1320</td>\n",
       "      <td>CRIMINAL DAMAGE</td>\n",
       "      <td>TO VEHICLE</td>\n",
       "      <td>STREET</td>\n",
       "      <td>False</td>\n",
       "      <td>False</td>\n",
       "      <td>...</td>\n",
       "      <td>-87.696064</td>\n",
       "      <td>(41.689078832, -87.696064026)</td>\n",
       "      <td>33.0</td>\n",
       "      <td>4,447</td>\n",
       "      <td>73.0</td>\n",
       "      <td>256.0</td>\n",
       "      <td>42.0</td>\n",
       "      <td>33.0</td>\n",
       "      <td>9.0</td>\n",
       "      <td>254.0</td>\n",
       "    </tr>\n",
       "    <tr>\n",
       "      <th>1</th>\n",
       "      <td>11561837</td>\n",
       "      <td>JC110056</td>\n",
       "      <td>12/31/2018 11:59:00 PM</td>\n",
       "      <td>013XX W 72ND ST</td>\n",
       "      <td>1153</td>\n",
       "      <td>DECEPTIVE PRACTICE</td>\n",
       "      <td>FINANCIAL IDENTITY THEFT OVER $ 300</td>\n",
       "      <td>NaN</td>\n",
       "      <td>False</td>\n",
       "      <td>False</td>\n",
       "      <td>...</td>\n",
       "      <td>-87.657709</td>\n",
       "      <td>(41.763181359, -87.657709477)</td>\n",
       "      <td>17.0</td>\n",
       "      <td>22,257</td>\n",
       "      <td>65.0</td>\n",
       "      <td>408.0</td>\n",
       "      <td>32.0</td>\n",
       "      <td>23.0</td>\n",
       "      <td>17.0</td>\n",
       "      <td>216.0</td>\n",
       "    </tr>\n",
       "    <tr>\n",
       "      <th>2</th>\n",
       "      <td>11552699</td>\n",
       "      <td>JC100043</td>\n",
       "      <td>12/31/2018 11:57:00 PM</td>\n",
       "      <td>084XX S SANGAMON ST</td>\n",
       "      <td>1310</td>\n",
       "      <td>CRIMINAL DAMAGE</td>\n",
       "      <td>TO PROPERTY</td>\n",
       "      <td>APARTMENT</td>\n",
       "      <td>False</td>\n",
       "      <td>False</td>\n",
       "      <td>...</td>\n",
       "      <td>-87.647391</td>\n",
       "      <td>(41.740520866, -87.647390719)</td>\n",
       "      <td>18.0</td>\n",
       "      <td>21,554</td>\n",
       "      <td>70.0</td>\n",
       "      <td>530.0</td>\n",
       "      <td>13.0</td>\n",
       "      <td>59.0</td>\n",
       "      <td>20.0</td>\n",
       "      <td>233.0</td>\n",
       "    </tr>\n",
       "    <tr>\n",
       "      <th>3</th>\n",
       "      <td>11552724</td>\n",
       "      <td>JC100006</td>\n",
       "      <td>12/31/2018 11:56:00 PM</td>\n",
       "      <td>018XX S ALLPORT ST</td>\n",
       "      <td>0440</td>\n",
       "      <td>BATTERY</td>\n",
       "      <td>AGG: HANDS/FIST/FEET NO/MINOR INJURY</td>\n",
       "      <td>OTHER</td>\n",
       "      <td>True</td>\n",
       "      <td>False</td>\n",
       "      <td>...</td>\n",
       "      <td>-87.657625</td>\n",
       "      <td>(41.857068095, -87.657625201)</td>\n",
       "      <td>8.0</td>\n",
       "      <td>14,920</td>\n",
       "      <td>33.0</td>\n",
       "      <td>365.0</td>\n",
       "      <td>26.0</td>\n",
       "      <td>43.0</td>\n",
       "      <td>15.0</td>\n",
       "      <td>150.0</td>\n",
       "    </tr>\n",
       "    <tr>\n",
       "      <th>4</th>\n",
       "      <td>11552731</td>\n",
       "      <td>JC100031</td>\n",
       "      <td>12/31/2018 11:55:00 PM</td>\n",
       "      <td>078XX S SANGAMON ST</td>\n",
       "      <td>0486</td>\n",
       "      <td>BATTERY</td>\n",
       "      <td>DOMESTIC BATTERY SIMPLE</td>\n",
       "      <td>APARTMENT</td>\n",
       "      <td>False</td>\n",
       "      <td>False</td>\n",
       "      <td>...</td>\n",
       "      <td>-87.647717</td>\n",
       "      <td>(41.75191443, -87.647716532)</td>\n",
       "      <td>17.0</td>\n",
       "      <td>21,554</td>\n",
       "      <td>70.0</td>\n",
       "      <td>487.0</td>\n",
       "      <td>31.0</td>\n",
       "      <td>59.0</td>\n",
       "      <td>20.0</td>\n",
       "      <td>229.0</td>\n",
       "    </tr>\n",
       "  </tbody>\n",
       "</table>\n",
       "<p>5 rows × 30 columns</p>\n",
       "</div>"
      ],
      "text/plain": [
       "         ID Case Number                    Date                   Block  IUCR  \\\n",
       "0  11556487    JC104662  12/31/2018 11:59:00 PM  112XX S SACRAMENTO AVE  1320   \n",
       "1  11561837    JC110056  12/31/2018 11:59:00 PM         013XX W 72ND ST  1153   \n",
       "2  11552699    JC100043  12/31/2018 11:57:00 PM     084XX S SANGAMON ST  1310   \n",
       "3  11552724    JC100006  12/31/2018 11:56:00 PM      018XX S ALLPORT ST  0440   \n",
       "4  11552731    JC100031  12/31/2018 11:55:00 PM     078XX S SANGAMON ST  0486   \n",
       "\n",
       "         Primary Type                           Description  \\\n",
       "0     CRIMINAL DAMAGE                            TO VEHICLE   \n",
       "1  DECEPTIVE PRACTICE   FINANCIAL IDENTITY THEFT OVER $ 300   \n",
       "2     CRIMINAL DAMAGE                           TO PROPERTY   \n",
       "3             BATTERY  AGG: HANDS/FIST/FEET NO/MINOR INJURY   \n",
       "4             BATTERY               DOMESTIC BATTERY SIMPLE   \n",
       "\n",
       "  Location Description  Arrest  Domestic  ...  Longitude  \\\n",
       "0               STREET   False     False  ... -87.696064   \n",
       "1                  NaN   False     False  ... -87.657709   \n",
       "2            APARTMENT   False     False  ... -87.647391   \n",
       "3                OTHER    True     False  ... -87.657625   \n",
       "4            APARTMENT   False     False  ... -87.647717   \n",
       "\n",
       "                        Location  Historical Wards 2003-2015  Zip Codes  \\\n",
       "0  (41.689078832, -87.696064026)                        33.0      4,447   \n",
       "1  (41.763181359, -87.657709477)                        17.0     22,257   \n",
       "2  (41.740520866, -87.647390719)                        18.0     21,554   \n",
       "3  (41.857068095, -87.657625201)                         8.0     14,920   \n",
       "4   (41.75191443, -87.647716532)                        17.0     21,554   \n",
       "\n",
       "  Community Areas  Census Tracts  Wards  Boundaries - ZIP Codes  \\\n",
       "0            73.0          256.0   42.0                    33.0   \n",
       "1            65.0          408.0   32.0                    23.0   \n",
       "2            70.0          530.0   13.0                    59.0   \n",
       "3            33.0          365.0   26.0                    43.0   \n",
       "4            70.0          487.0   31.0                    59.0   \n",
       "\n",
       "  Police Districts  Police Beats  \n",
       "0              9.0         254.0  \n",
       "1             17.0         216.0  \n",
       "2             20.0         233.0  \n",
       "3             15.0         150.0  \n",
       "4             20.0         229.0  \n",
       "\n",
       "[5 rows x 30 columns]"
      ]
     },
     "execution_count": 12,
     "metadata": {},
     "output_type": "execute_result"
    }
   ],
   "source": [
    "#Sample of dataframe\n",
    "df_crime.head()"
   ]
  },
  {
   "cell_type": "code",
   "execution_count": 13,
   "metadata": {},
   "outputs": [
    {
     "data": {
      "text/plain": [
       "Index(['ID', 'Case Number', 'Date', 'Block', 'IUCR', 'Primary Type',\n",
       "       'Description', 'Location Description', 'Arrest', 'Domestic', 'Beat',\n",
       "       'District', 'Ward', 'Community Area', 'FBI Code', 'X Coordinate',\n",
       "       'Y Coordinate', 'Year', 'Updated On', 'Latitude', 'Longitude',\n",
       "       'Location', 'Historical Wards 2003-2015', 'Zip Codes',\n",
       "       'Community Areas', 'Census Tracts', 'Wards', 'Boundaries - ZIP Codes',\n",
       "       'Police Districts', 'Police Beats'],\n",
       "      dtype='object')"
      ]
     },
     "execution_count": 13,
     "metadata": {},
     "output_type": "execute_result"
    }
   ],
   "source": [
    "#Check columns of dataframe\n",
    "df_crime.columns"
   ]
  },
  {
   "cell_type": "code",
   "execution_count": 14,
   "metadata": {},
   "outputs": [],
   "source": [
    "#Condense dataframe to only the columns needed\n",
    "df_crime_condense = df_crime[[\"ID\", \"Primary Type\",\"Community Area\" ]]"
   ]
  },
  {
   "cell_type": "code",
   "execution_count": 15,
   "metadata": {},
   "outputs": [
    {
     "data": {
      "text/html": [
       "<div>\n",
       "<style scoped>\n",
       "    .dataframe tbody tr th:only-of-type {\n",
       "        vertical-align: middle;\n",
       "    }\n",
       "\n",
       "    .dataframe tbody tr th {\n",
       "        vertical-align: top;\n",
       "    }\n",
       "\n",
       "    .dataframe thead th {\n",
       "        text-align: right;\n",
       "    }\n",
       "</style>\n",
       "<table border=\"1\" class=\"dataframe\">\n",
       "  <thead>\n",
       "    <tr style=\"text-align: right;\">\n",
       "      <th></th>\n",
       "      <th>ID</th>\n",
       "      <th>Primary Type</th>\n",
       "      <th>Community Area</th>\n",
       "    </tr>\n",
       "  </thead>\n",
       "  <tbody>\n",
       "    <tr>\n",
       "      <th>0</th>\n",
       "      <td>11556487</td>\n",
       "      <td>CRIMINAL DAMAGE</td>\n",
       "      <td>74.0</td>\n",
       "    </tr>\n",
       "    <tr>\n",
       "      <th>1</th>\n",
       "      <td>11561837</td>\n",
       "      <td>DECEPTIVE PRACTICE</td>\n",
       "      <td>67.0</td>\n",
       "    </tr>\n",
       "    <tr>\n",
       "      <th>2</th>\n",
       "      <td>11552699</td>\n",
       "      <td>CRIMINAL DAMAGE</td>\n",
       "      <td>71.0</td>\n",
       "    </tr>\n",
       "    <tr>\n",
       "      <th>3</th>\n",
       "      <td>11552724</td>\n",
       "      <td>BATTERY</td>\n",
       "      <td>31.0</td>\n",
       "    </tr>\n",
       "    <tr>\n",
       "      <th>4</th>\n",
       "      <td>11552731</td>\n",
       "      <td>BATTERY</td>\n",
       "      <td>71.0</td>\n",
       "    </tr>\n",
       "  </tbody>\n",
       "</table>\n",
       "</div>"
      ],
      "text/plain": [
       "         ID        Primary Type  Community Area\n",
       "0  11556487     CRIMINAL DAMAGE            74.0\n",
       "1  11561837  DECEPTIVE PRACTICE            67.0\n",
       "2  11552699     CRIMINAL DAMAGE            71.0\n",
       "3  11552724             BATTERY            31.0\n",
       "4  11552731             BATTERY            71.0"
      ]
     },
     "execution_count": 15,
     "metadata": {},
     "output_type": "execute_result"
    }
   ],
   "source": [
    "df_crime_condense.head()"
   ]
  },
  {
   "cell_type": "code",
   "execution_count": 16,
   "metadata": {},
   "outputs": [
    {
     "data": {
      "text/html": [
       "<div>\n",
       "<style scoped>\n",
       "    .dataframe tbody tr th:only-of-type {\n",
       "        vertical-align: middle;\n",
       "    }\n",
       "\n",
       "    .dataframe tbody tr th {\n",
       "        vertical-align: top;\n",
       "    }\n",
       "\n",
       "    .dataframe thead th {\n",
       "        text-align: right;\n",
       "    }\n",
       "</style>\n",
       "<table border=\"1\" class=\"dataframe\">\n",
       "  <thead>\n",
       "    <tr style=\"text-align: right;\">\n",
       "      <th></th>\n",
       "      <th>ID</th>\n",
       "      <th>Primary Type</th>\n",
       "      <th>Community Area</th>\n",
       "    </tr>\n",
       "  </thead>\n",
       "  <tbody>\n",
       "    <tr>\n",
       "      <th>103615</th>\n",
       "      <td>11411592</td>\n",
       "      <td>NARCOTICS</td>\n",
       "      <td>0.0</td>\n",
       "    </tr>\n",
       "    <tr>\n",
       "      <th>211341</th>\n",
       "      <td>11271124</td>\n",
       "      <td>BATTERY</td>\n",
       "      <td>0.0</td>\n",
       "    </tr>\n",
       "    <tr>\n",
       "      <th>88958</th>\n",
       "      <td>11431392</td>\n",
       "      <td>NARCOTICS</td>\n",
       "      <td>1.0</td>\n",
       "    </tr>\n",
       "    <tr>\n",
       "      <th>50728</th>\n",
       "      <td>11482857</td>\n",
       "      <td>MOTOR VEHICLE THEFT</td>\n",
       "      <td>1.0</td>\n",
       "    </tr>\n",
       "    <tr>\n",
       "      <th>125920</th>\n",
       "      <td>11381685</td>\n",
       "      <td>BATTERY</td>\n",
       "      <td>1.0</td>\n",
       "    </tr>\n",
       "  </tbody>\n",
       "</table>\n",
       "</div>"
      ],
      "text/plain": [
       "              ID         Primary Type  Community Area\n",
       "103615  11411592            NARCOTICS             0.0\n",
       "211341  11271124              BATTERY             0.0\n",
       "88958   11431392            NARCOTICS             1.0\n",
       "50728   11482857  MOTOR VEHICLE THEFT             1.0\n",
       "125920  11381685              BATTERY             1.0"
      ]
     },
     "execution_count": 16,
     "metadata": {},
     "output_type": "execute_result"
    }
   ],
   "source": [
    "#Presence of zeroes in 'Community Area' must be dealt with -- this value is nonsensical and is equaivalent to NA\n",
    "df_crime_condense.sort_values('Community Area').head()"
   ]
  },
  {
   "cell_type": "code",
   "execution_count": 17,
   "metadata": {},
   "outputs": [
    {
     "data": {
      "text/plain": [
       "Int64Index([103615, 211341], dtype='int64')"
      ]
     },
     "execution_count": 17,
     "metadata": {},
     "output_type": "execute_result"
    }
   ],
   "source": [
    "#Find indices where 'Community Area' = 0\n",
    "variable = df_crime_condense[df_crime_condense[\"Community Area\"]==0].index\n",
    "variable"
   ]
  },
  {
   "cell_type": "code",
   "execution_count": 18,
   "metadata": {},
   "outputs": [
    {
     "name": "stderr",
     "output_type": "stream",
     "text": [
      "/anaconda3/lib/python3.7/site-packages/pandas/core/frame.py:3940: SettingWithCopyWarning: \n",
      "A value is trying to be set on a copy of a slice from a DataFrame\n",
      "\n",
      "See the caveats in the documentation: http://pandas.pydata.org/pandas-docs/stable/indexing.html#indexing-view-versus-copy\n",
      "  errors=errors)\n"
     ]
    },
    {
     "data": {
      "text/html": [
       "<div>\n",
       "<style scoped>\n",
       "    .dataframe tbody tr th:only-of-type {\n",
       "        vertical-align: middle;\n",
       "    }\n",
       "\n",
       "    .dataframe tbody tr th {\n",
       "        vertical-align: top;\n",
       "    }\n",
       "\n",
       "    .dataframe thead th {\n",
       "        text-align: right;\n",
       "    }\n",
       "</style>\n",
       "<table border=\"1\" class=\"dataframe\">\n",
       "  <thead>\n",
       "    <tr style=\"text-align: right;\">\n",
       "      <th></th>\n",
       "      <th>ID</th>\n",
       "      <th>Primary Type</th>\n",
       "      <th>Community Area</th>\n",
       "    </tr>\n",
       "  </thead>\n",
       "  <tbody>\n",
       "    <tr>\n",
       "      <th>240478</th>\n",
       "      <td>11228502</td>\n",
       "      <td>CRIMINAL DAMAGE</td>\n",
       "      <td>1.0</td>\n",
       "    </tr>\n",
       "    <tr>\n",
       "      <th>239565</th>\n",
       "      <td>11229985</td>\n",
       "      <td>THEFT</td>\n",
       "      <td>1.0</td>\n",
       "    </tr>\n",
       "    <tr>\n",
       "      <th>177656</th>\n",
       "      <td>11315019</td>\n",
       "      <td>THEFT</td>\n",
       "      <td>1.0</td>\n",
       "    </tr>\n",
       "    <tr>\n",
       "      <th>53338</th>\n",
       "      <td>11492323</td>\n",
       "      <td>NARCOTICS</td>\n",
       "      <td>1.0</td>\n",
       "    </tr>\n",
       "    <tr>\n",
       "      <th>177652</th>\n",
       "      <td>11314763</td>\n",
       "      <td>THEFT</td>\n",
       "      <td>1.0</td>\n",
       "    </tr>\n",
       "  </tbody>\n",
       "</table>\n",
       "</div>"
      ],
      "text/plain": [
       "              ID     Primary Type  Community Area\n",
       "240478  11228502  CRIMINAL DAMAGE             1.0\n",
       "239565  11229985            THEFT             1.0\n",
       "177656  11315019            THEFT             1.0\n",
       "53338   11492323        NARCOTICS             1.0\n",
       "177652  11314763            THEFT             1.0"
      ]
     },
     "execution_count": 18,
     "metadata": {},
     "output_type": "execute_result"
    }
   ],
   "source": [
    "#Drop records where 'Community Area' = 0; display sample of dataframe\n",
    "df_crime_condense.drop(variable, inplace=True)\n",
    "df_crime_condense.sort_values(by=['Community Area']).head()"
   ]
  },
  {
   "cell_type": "code",
   "execution_count": 19,
   "metadata": {},
   "outputs": [],
   "source": [
    "#Remove records where 'Community Area' is NA\n",
    "df_crime_condense = df_crime_condense[np.isfinite(df_crime_condense[\"Community Area\"])]"
   ]
  },
  {
   "cell_type": "code",
   "execution_count": 20,
   "metadata": {},
   "outputs": [
    {
     "data": {
      "text/plain": [
       "ID                  int64\n",
       "Primary Type       object\n",
       "Community Area    float64\n",
       "dtype: object"
      ]
     },
     "execution_count": 20,
     "metadata": {},
     "output_type": "execute_result"
    }
   ],
   "source": [
    "#Check datatypes of column; 'Community Area' is currently a float; \n",
    "#needs to be made into a string of an integer in order to be a merge-able primary key\n",
    "df_crime_condense.dtypes"
   ]
  },
  {
   "cell_type": "code",
   "execution_count": 21,
   "metadata": {},
   "outputs": [],
   "source": [
    "#Multiple steps required to change datatype from float to a string of an integer value\n",
    "df_crime_condense = df_crime_condense.astype({\"Community Area\": \"float\"})\n",
    "df_crime_condense = df_crime_condense.astype({\"Community Area\": \"int\"})\n",
    "df_crime_condense = df_crime_condense.astype({\"Community Area\": \"str\"})"
   ]
  },
  {
   "cell_type": "code",
   "execution_count": 22,
   "metadata": {},
   "outputs": [
    {
     "data": {
      "text/html": [
       "<div>\n",
       "<style scoped>\n",
       "    .dataframe tbody tr th:only-of-type {\n",
       "        vertical-align: middle;\n",
       "    }\n",
       "\n",
       "    .dataframe tbody tr th {\n",
       "        vertical-align: top;\n",
       "    }\n",
       "\n",
       "    .dataframe thead th {\n",
       "        text-align: right;\n",
       "    }\n",
       "</style>\n",
       "<table border=\"1\" class=\"dataframe\">\n",
       "  <thead>\n",
       "    <tr style=\"text-align: right;\">\n",
       "      <th></th>\n",
       "      <th>ID</th>\n",
       "      <th>Primary Type</th>\n",
       "      <th>Community Area</th>\n",
       "    </tr>\n",
       "  </thead>\n",
       "  <tbody>\n",
       "    <tr>\n",
       "      <th>0</th>\n",
       "      <td>11556487</td>\n",
       "      <td>CRIMINAL DAMAGE</td>\n",
       "      <td>74</td>\n",
       "    </tr>\n",
       "    <tr>\n",
       "      <th>1</th>\n",
       "      <td>11561837</td>\n",
       "      <td>DECEPTIVE PRACTICE</td>\n",
       "      <td>67</td>\n",
       "    </tr>\n",
       "    <tr>\n",
       "      <th>2</th>\n",
       "      <td>11552699</td>\n",
       "      <td>CRIMINAL DAMAGE</td>\n",
       "      <td>71</td>\n",
       "    </tr>\n",
       "    <tr>\n",
       "      <th>3</th>\n",
       "      <td>11552724</td>\n",
       "      <td>BATTERY</td>\n",
       "      <td>31</td>\n",
       "    </tr>\n",
       "    <tr>\n",
       "      <th>4</th>\n",
       "      <td>11552731</td>\n",
       "      <td>BATTERY</td>\n",
       "      <td>71</td>\n",
       "    </tr>\n",
       "  </tbody>\n",
       "</table>\n",
       "</div>"
      ],
      "text/plain": [
       "         ID        Primary Type Community Area\n",
       "0  11556487     CRIMINAL DAMAGE             74\n",
       "1  11561837  DECEPTIVE PRACTICE             67\n",
       "2  11552699     CRIMINAL DAMAGE             71\n",
       "3  11552724             BATTERY             31\n",
       "4  11552731             BATTERY             71"
      ]
     },
     "execution_count": 22,
     "metadata": {},
     "output_type": "execute_result"
    }
   ],
   "source": [
    "#'Community Area' field now has no decimal\n",
    "df_crime_condense.head()"
   ]
  },
  {
   "cell_type": "code",
   "execution_count": 23,
   "metadata": {},
   "outputs": [],
   "source": [
    "#Crime data grouped by community area to find total number of crimes per community area;\n",
    "#Use indexing as a way of 'converting' GroupBy object into DataFrame\n",
    "grouped_crime = df_crime_condense.groupby(\"Community Area\", as_index=False).count()[[\"Community Area\", \"Primary Type\" ]]"
   ]
  },
  {
   "cell_type": "code",
   "execution_count": 24,
   "metadata": {
    "scrolled": true
   },
   "outputs": [],
   "source": [
    "#Rename columns to those that would be in SQL table\n",
    "grouped_crime = grouped_crime.rename(columns={\"Community Area\": \"community_area\", \"Primary Type\": \"number_of_crimes\"})"
   ]
  },
  {
   "cell_type": "code",
   "execution_count": 25,
   "metadata": {},
   "outputs": [
    {
     "data": {
      "text/html": [
       "<div>\n",
       "<style scoped>\n",
       "    .dataframe tbody tr th:only-of-type {\n",
       "        vertical-align: middle;\n",
       "    }\n",
       "\n",
       "    .dataframe tbody tr th {\n",
       "        vertical-align: top;\n",
       "    }\n",
       "\n",
       "    .dataframe thead th {\n",
       "        text-align: right;\n",
       "    }\n",
       "</style>\n",
       "<table border=\"1\" class=\"dataframe\">\n",
       "  <thead>\n",
       "    <tr style=\"text-align: right;\">\n",
       "      <th></th>\n",
       "      <th>community_area</th>\n",
       "      <th>number_of_crimes</th>\n",
       "    </tr>\n",
       "  </thead>\n",
       "  <tbody>\n",
       "    <tr>\n",
       "      <th>0</th>\n",
       "      <td>1</td>\n",
       "      <td>3816</td>\n",
       "    </tr>\n",
       "    <tr>\n",
       "      <th>1</th>\n",
       "      <td>10</td>\n",
       "      <td>1175</td>\n",
       "    </tr>\n",
       "    <tr>\n",
       "      <th>2</th>\n",
       "      <td>11</td>\n",
       "      <td>1098</td>\n",
       "    </tr>\n",
       "    <tr>\n",
       "      <th>3</th>\n",
       "      <td>12</td>\n",
       "      <td>494</td>\n",
       "    </tr>\n",
       "    <tr>\n",
       "      <th>4</th>\n",
       "      <td>13</td>\n",
       "      <td>1000</td>\n",
       "    </tr>\n",
       "  </tbody>\n",
       "</table>\n",
       "</div>"
      ],
      "text/plain": [
       "  community_area  number_of_crimes\n",
       "0              1              3816\n",
       "1             10              1175\n",
       "2             11              1098\n",
       "3             12               494\n",
       "4             13              1000"
      ]
     },
     "execution_count": 25,
     "metadata": {},
     "output_type": "execute_result"
    }
   ],
   "source": [
    "#Sample of dataframe\n",
    "grouped_crime.head()"
   ]
  },
  {
   "cell_type": "code",
   "execution_count": 26,
   "metadata": {},
   "outputs": [],
   "source": [
    "data_file_3 = \"Data/Chi_Population2017.csv\""
   ]
  },
  {
   "cell_type": "code",
   "execution_count": 27,
   "metadata": {},
   "outputs": [
    {
     "data": {
      "text/html": [
       "<div>\n",
       "<style scoped>\n",
       "    .dataframe tbody tr th:only-of-type {\n",
       "        vertical-align: middle;\n",
       "    }\n",
       "\n",
       "    .dataframe tbody tr th {\n",
       "        vertical-align: top;\n",
       "    }\n",
       "\n",
       "    .dataframe thead th {\n",
       "        text-align: right;\n",
       "    }\n",
       "</style>\n",
       "<table border=\"1\" class=\"dataframe\">\n",
       "  <thead>\n",
       "    <tr style=\"text-align: right;\">\n",
       "      <th></th>\n",
       "      <th>Community Area</th>\n",
       "      <th>Population</th>\n",
       "    </tr>\n",
       "  </thead>\n",
       "  <tbody>\n",
       "    <tr>\n",
       "      <th>0</th>\n",
       "      <td>1</td>\n",
       "      <td>53470</td>\n",
       "    </tr>\n",
       "    <tr>\n",
       "      <th>1</th>\n",
       "      <td>2</td>\n",
       "      <td>75185</td>\n",
       "    </tr>\n",
       "    <tr>\n",
       "      <th>2</th>\n",
       "      <td>3</td>\n",
       "      <td>54001</td>\n",
       "    </tr>\n",
       "    <tr>\n",
       "      <th>3</th>\n",
       "      <td>4</td>\n",
       "      <td>46881</td>\n",
       "    </tr>\n",
       "    <tr>\n",
       "      <th>4</th>\n",
       "      <td>5</td>\n",
       "      <td>35406</td>\n",
       "    </tr>\n",
       "  </tbody>\n",
       "</table>\n",
       "</div>"
      ],
      "text/plain": [
       "   Community Area  Population\n",
       "0               1       53470\n",
       "1               2       75185\n",
       "2               3       54001\n",
       "3               4       46881\n",
       "4               5       35406"
      ]
     },
     "execution_count": 27,
     "metadata": {},
     "output_type": "execute_result"
    }
   ],
   "source": [
    "df_pop = pd.read_csv(data_file_3)\n",
    "df_pop.head()"
   ]
  },
  {
   "cell_type": "code",
   "execution_count": 28,
   "metadata": {},
   "outputs": [],
   "source": [
    "df_pop_temp = df_pop.astype({\"Community Area\": \"str\"})"
   ]
  },
  {
   "cell_type": "code",
   "execution_count": 29,
   "metadata": {},
   "outputs": [],
   "source": [
    "df_pop_final = df_pop_temp.astype({\"Population\": \"str\"})"
   ]
  },
  {
   "cell_type": "code",
   "execution_count": 30,
   "metadata": {
    "scrolled": true
   },
   "outputs": [
    {
     "data": {
      "text/plain": [
       "Community Area    object\n",
       "Population        object\n",
       "dtype: object"
      ]
     },
     "execution_count": 30,
     "metadata": {},
     "output_type": "execute_result"
    }
   ],
   "source": [
    "df_pop_final.dtypes"
   ]
  },
  {
   "cell_type": "code",
   "execution_count": 31,
   "metadata": {},
   "outputs": [],
   "source": [
    "df_pop_final = df_pop_final.rename(columns={\"Community Area\": \"community_area\", \"Population\": \"population\"})"
   ]
  },
  {
   "cell_type": "code",
   "execution_count": 32,
   "metadata": {},
   "outputs": [],
   "source": [
    "rds_connection_string = \"postgres:postgres@localhost:5432/chicago_db\"\n",
    "engine = create_engine(f'postgresql://{rds_connection_string}')"
   ]
  },
  {
   "cell_type": "code",
   "execution_count": 33,
   "metadata": {},
   "outputs": [
    {
     "data": {
      "text/plain": [
       "['public_health', 'chicago_crime', 'population']"
      ]
     },
     "execution_count": 33,
     "metadata": {},
     "output_type": "execute_result"
    }
   ],
   "source": [
    "engine.table_names()"
   ]
  },
  {
   "cell_type": "code",
   "execution_count": 34,
   "metadata": {},
   "outputs": [],
   "source": [
    "df_ph_condense.to_sql(name='public_health', con=engine, if_exists='append', index=False)"
   ]
  },
  {
   "cell_type": "code",
   "execution_count": 35,
   "metadata": {},
   "outputs": [],
   "source": [
    "grouped_crime.to_sql(name='chicago_crime', con=engine, if_exists='append', index=False)"
   ]
  },
  {
   "cell_type": "code",
   "execution_count": 36,
   "metadata": {},
   "outputs": [],
   "source": [
    "df_pop_final.to_sql(name='population', con=engine, if_exists='append', index=False)"
   ]
  },
  {
   "cell_type": "code",
   "execution_count": 37,
   "metadata": {},
   "outputs": [
    {
     "data": {
      "text/html": [
       "<div>\n",
       "<style scoped>\n",
       "    .dataframe tbody tr th:only-of-type {\n",
       "        vertical-align: middle;\n",
       "    }\n",
       "\n",
       "    .dataframe tbody tr th {\n",
       "        vertical-align: top;\n",
       "    }\n",
       "\n",
       "    .dataframe thead th {\n",
       "        text-align: right;\n",
       "    }\n",
       "</style>\n",
       "<table border=\"1\" class=\"dataframe\">\n",
       "  <thead>\n",
       "    <tr style=\"text-align: right;\">\n",
       "      <th></th>\n",
       "      <th>community_area</th>\n",
       "      <th>community_area_name</th>\n",
       "      <th>unemployment</th>\n",
       "      <th>no_high_school_diploma</th>\n",
       "      <th>number_of_crimes</th>\n",
       "      <th>population</th>\n",
       "    </tr>\n",
       "  </thead>\n",
       "  <tbody>\n",
       "    <tr>\n",
       "      <th>0</th>\n",
       "      <td>1</td>\n",
       "      <td>Rogers Park</td>\n",
       "      <td>7.5</td>\n",
       "      <td>18.1</td>\n",
       "      <td>3816</td>\n",
       "      <td>53470</td>\n",
       "    </tr>\n",
       "    <tr>\n",
       "      <th>1</th>\n",
       "      <td>1</td>\n",
       "      <td>Rogers Park</td>\n",
       "      <td>7.5</td>\n",
       "      <td>18.1</td>\n",
       "      <td>3816</td>\n",
       "      <td>53470</td>\n",
       "    </tr>\n",
       "    <tr>\n",
       "      <th>2</th>\n",
       "      <td>1</td>\n",
       "      <td>Rogers Park</td>\n",
       "      <td>7.5</td>\n",
       "      <td>18.1</td>\n",
       "      <td>3816</td>\n",
       "      <td>53470</td>\n",
       "    </tr>\n",
       "    <tr>\n",
       "      <th>3</th>\n",
       "      <td>1</td>\n",
       "      <td>Rogers Park</td>\n",
       "      <td>7.5</td>\n",
       "      <td>18.1</td>\n",
       "      <td>3816</td>\n",
       "      <td>53470</td>\n",
       "    </tr>\n",
       "    <tr>\n",
       "      <th>4</th>\n",
       "      <td>1</td>\n",
       "      <td>Rogers Park</td>\n",
       "      <td>7.5</td>\n",
       "      <td>18.1</td>\n",
       "      <td>3816</td>\n",
       "      <td>53470</td>\n",
       "    </tr>\n",
       "  </tbody>\n",
       "</table>\n",
       "</div>"
      ],
      "text/plain": [
       "  community_area community_area_name  unemployment  no_high_school_diploma  \\\n",
       "0              1         Rogers Park           7.5                    18.1   \n",
       "1              1         Rogers Park           7.5                    18.1   \n",
       "2              1         Rogers Park           7.5                    18.1   \n",
       "3              1         Rogers Park           7.5                    18.1   \n",
       "4              1         Rogers Park           7.5                    18.1   \n",
       "\n",
       "   number_of_crimes population  \n",
       "0              3816      53470  \n",
       "1              3816      53470  \n",
       "2              3816      53470  \n",
       "3              3816      53470  \n",
       "4              3816      53470  "
      ]
     },
     "execution_count": 37,
     "metadata": {},
     "output_type": "execute_result"
    }
   ],
   "source": [
    "master_table = pd.read_sql_query('''SELECT ph.*, c.number_of_crimes, p.population FROM public_health ph\n",
    "JOIN chicago_crime c ON ph.community_area = c.community_area JOIN population p\n",
    "ON ph.community_area = p.community_area''', \n",
    "con=engine)\n",
    "\n",
    "\n",
    "\n",
    "master_table.head()"
   ]
  },
  {
   "cell_type": "code",
   "execution_count": 38,
   "metadata": {},
   "outputs": [
    {
     "data": {
      "text/plain": [
       "community_area             object\n",
       "community_area_name        object\n",
       "unemployment              float64\n",
       "no_high_school_diploma    float64\n",
       "number_of_crimes            int64\n",
       "population                 object\n",
       "dtype: object"
      ]
     },
     "execution_count": 38,
     "metadata": {},
     "output_type": "execute_result"
    }
   ],
   "source": [
    "master_table.dtypes"
   ]
  },
  {
   "cell_type": "code",
   "execution_count": 39,
   "metadata": {},
   "outputs": [],
   "source": [
    "master_table = master_table.astype({\"population\": \"int64\"})"
   ]
  },
  {
   "cell_type": "code",
   "execution_count": 40,
   "metadata": {},
   "outputs": [],
   "source": [
    "master_table[\"crimes_per_thousand\"] = (master_table.number_of_crimes/master_table.population) * 1000"
   ]
  },
  {
   "cell_type": "code",
   "execution_count": 41,
   "metadata": {},
   "outputs": [
    {
     "data": {
      "image/png": "[encoded data removed]",
      "text/plain": [
       "<Figure size 432x288 with 1 Axes>"
      ]
     },
     "metadata": {
      "needs_background": "light"
     },
     "output_type": "display_data"
    }
   ],
   "source": [
    "# Build the scatter plots for Crime rate and Unemployment\n",
    "plt.scatter(master_table.crimes_per_thousand, master_table.unemployment, \n",
    "            c=\"red\", edgecolor=\"black\", linewidths=1, marker=\"o\", alpha=0.8)\n",
    "\n",
    "\n",
    "# Incorporate the other graph properties\n",
    "plt.title(\"Chicago Crime and Unemployment Rate\")\n",
    "plt.ylabel(\"unemployment\")\n",
    "plt.xlabel(\"crimes_per_thousand\")\n",
    "plt.grid(True)\n",
    "\n",
    "\n",
    "# Save Figure\n",
    "plt.savefig(\"Analysis/Crime_Unemployment.png\")\n",
    "\n",
    "# Show plot\n",
    "plt.show()"
   ]
  },
  {
   "cell_type": "code",
   "execution_count": 42,
   "metadata": {},
   "outputs": [
    {
     "data": {
      "image/png": "[encoded data removed]",
      "text/plain": [
       "<Figure size 432x288 with 1 Axes>"
      ]
     },
     "metadata": {
      "needs_background": "light"
     },
     "output_type": "display_data"
    }
   ],
   "source": [
    "# Build the scatter plots for Unemployment and Education (No HS diploma) \n",
    "plt.scatter(master_table.unemployment, master_table.no_high_school_diploma, \n",
    "            c=\"red\", edgecolor=\"black\", linewidths=1, marker=\"o\", alpha=0.8)\n",
    "\n",
    "# Incorporate the other graph properties\n",
    "plt.title(\"Chicago Unemployment Rate and Education\")\n",
    "plt.ylabel(\"No HS Diploma\")\n",
    "plt.xlabel(\"Unemployment\")\n",
    "plt.grid(True)\n",
    "\n",
    "\n",
    "# Save Figure\n",
    "plt.savefig(\"Analysis/Education_Unemployment.png\")\n",
    "\n",
    "# Show plot\n",
    "plt.show()"
   ]
  },
  {
   "cell_type": "code",
   "execution_count": null,
   "metadata": {},
   "outputs": [],
   "source": []
  },
  {
   "cell_type": "code",
   "execution_count": null,
   "metadata": {},
   "outputs": [],
   "source": []
  }
 ],
 "metadata": {
  "kernelspec": {
   "display_name": "Python 3",
   "language": "python",
   "name": "python3"
  },
  "language_info": {
   "codemirror_mode": {
    "name": "ipython",
    "version": 3
   },
   "file_extension": ".py",
   "mimetype": "text/x-python",
   "name": "python",
   "nbconvert_exporter": "python",
   "pygments_lexer": "ipython3",
   "version": "3.7.3"
  }
 },
 "nbformat": 4,
 "nbformat_minor": 2
}
